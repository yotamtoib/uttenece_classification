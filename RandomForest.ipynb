{
  "nbformat": 4,
  "nbformat_minor": 0,
  "metadata": {
    "colab": {
      "provenance": [],
      "authorship_tag": "ABX9TyOhe9J5s8ThvFQSkxGnXNrk",
      "include_colab_link": true
    },
    "kernelspec": {
      "name": "python3",
      "display_name": "Python 3"
    },
    "language_info": {
      "name": "python"
    }
  },
  "cells": [
    {
      "cell_type": "markdown",
      "metadata": {
        "id": "view-in-github",
        "colab_type": "text"
      },
      "source": [
        "<a href=\"https://colab.research.google.com/github/yotamtoib/uttenece_classification/blob/main/RandomForest.ipynb\" target=\"_parent\"><img src=\"https://colab.research.google.com/assets/colab-badge.svg\" alt=\"Open In Colab\"/></a>"
      ]
    },
    {
      "cell_type": "code",
      "execution_count": null,
      "metadata": {
        "id": "j_M3yt8_Su1w"
      },
      "outputs": [],
      "source": []
    },
    {
      "cell_type": "code",
      "source": [
        "from sklearn.preprocessing import LabelEncoder, StandardScaler\n",
        "from sklearn.pipeline import make_pipeline\n",
        "from sklearn.metrics import accuracy_score\n",
        "import joblib\n",
        "\n",
        "data = pd.read_csv('train dataset.csv')\n",
        "\n",
        "le = LabelEncoder()\n",
        "data['Gender'] = le.fit_transform(data['Gender'])\n",
        "input_cols = ['Gender', 'openness', 'neuroticism', 'conscientiousness', 'agreeableness', 'extraversion']\n",
        "## input_cols = ['Gender', 'Age', 'openness', 'neuroticism', 'conscientiousness', 'agreeableness', 'extraversion']\n",
        "output_cols = ['Personality (Class label)']\n",
        "\n",
        "scaler = StandardScaler()\n",
        "data[input_cols] = scaler.fit_transform(data[input_cols])\n",
        "data.head()\n",
        "\n",
        "X = data[input_cols]\n",
        "Y = data[output_cols]\n",
        "\n",
        "model_rf = RandomForestClassifier(n_estimators=100, random_state=42)\n",
        "model_rf.fit(X, np.ravel(Y))\n",
        "\n",
        "test_data = pd.read_csv('test dataset.csv')\n",
        "##print(\"test_data['Gender']\\n\", test_data['Gender'][1:5])\n",
        "test_data['Gender'] = le.fit_transform(test_data['Gender'])\n",
        "##print(\"test_data['Gender'] after fit()\\n\", test_data['Gender'][1:5])\n",
        "print(\"test_data before fit_transform:\\n\",test_data[input_cols][1:5])\n",
        "test_data[input_cols] = scaler.fit_transform(test_data[input_cols])\n",
        "print(\"test_data after fit_transform:\\n\",test_data[input_cols][1:5])\n",
        "X_test = test_data[input_cols]\n",
        "Y_test = test_data['Personality (class label)']\n",
        "test_data.head()\n",
        "\n",
        "y_pred= model_rf.predict(X_test)\n",
        "\n",
        "print(\"Random Forest accuracy: \", accuracy_score(Y_test,y_pred))\n",
        "\n",
        "joblib.dump(model_rf, \"train_model_rf.pkl\")\n"
      ],
      "metadata": {
        "colab": {
          "base_uri": "https://localhost:8080/"
        },
        "id": "5RVHp6Z6UfTN",
        "outputId": "73682ad8-b49e-41f0-b55c-d9a63f815490"
      },
      "execution_count": null,
      "outputs": [
        {
          "output_type": "stream",
          "name": "stdout",
          "text": [
            "test_data before fit_transform:\n",
            "    Gender  openness  neuroticism  conscientiousness  agreeableness  \\\n",
            "1       1         5            4                  5              2   \n",
            "2       0         5            5                  7              2   \n",
            "3       0         6            2                  7              4   \n",
            "4       0         2            4                  7              1   \n",
            "\n",
            "   extraversion  \n",
            "1             4  \n",
            "2             4  \n",
            "3             7  \n",
            "4             3  \n",
            "test_data after fit_transform:\n",
            "      Gender  openness  neuroticism  conscientiousness  agreeableness  \\\n",
            "1  0.990521  0.097217    -0.321703           0.105020      -1.657770   \n",
            "2 -1.009570  0.097217     0.229038           1.226425      -1.657770   \n",
            "3 -1.009570  0.748781    -1.423186           1.226425      -0.492151   \n",
            "4 -1.009570 -1.857474    -0.321703           1.226425      -2.240580   \n",
            "\n",
            "   extraversion  \n",
            "1     -0.633100  \n",
            "2     -0.633100  \n",
            "3      1.415803  \n",
            "4     -1.316068  \n",
            "Random Forest accuracy:  0.27936507936507937\n"
          ]
        },
        {
          "output_type": "execute_result",
          "data": {
            "text/plain": [
              "['train_model_rf.pkl']"
            ]
          },
          "metadata": {},
          "execution_count": 12
        }
      ]
    },
    {
      "cell_type": "code",
      "source": [
        "# Export the first three decision trees from the forest\n",
        "\n",
        "for i in range(3):\n",
        "    tree = model_rf.estimators_[i]\n",
        "    dot_data = export_graphviz(tree,\n",
        "                               feature_names=X.columns,\n",
        "                               filled=True,\n",
        "                               max_depth=2,\n",
        "                               impurity=False,\n",
        "                               proportion=True)\n",
        "    graph = graphviz.Source(dot_data)\n",
        "    #display(graph)\n",
        "\n",
        "\n",
        "\n"
      ],
      "metadata": {
        "id": "1zccTLWJspY5"
      },
      "execution_count": null,
      "outputs": []
    },
    {
      "cell_type": "code",
      "source": [
        "param_dist = {'n_estimators': randint(50,500),\n",
        "              'max_depth': randint(1,20)}\n",
        "\n",
        "# Create a random forest classifier\n",
        "rf = RandomForestClassifier()\n",
        "\n",
        "# Use random search to find the best hyperparameters\n",
        "rand_search = RandomizedSearchCV(rf,\n",
        "                                 param_distributions = param_dist,\n",
        "                                 n_iter=5,\n",
        "                                 cv=5)\n",
        "\n",
        "# Fit the random search object to the data\n",
        "rand_search.fit(X, np.ravel(Y))"
      ],
      "metadata": {
        "id": "pa-pI5VtKTQr"
      },
      "execution_count": null,
      "outputs": []
    },
    {
      "cell_type": "code",
      "source": [
        "from sklearn.linear_model import LogisticRegression\n",
        "from sklearn.preprocessing import LabelEncoder, StandardScaler\n",
        "from sklearn.pipeline import make_pipeline\n",
        "\n",
        "model_lr = LogisticRegression(multi_class='multinomial', solver='newton-cg',max_iter =1000)\n",
        "model_lr.fit(X, Y)\n",
        "\n",
        "y_pred= model_lr.predict(X_test)\n",
        "\n",
        "print(\"Logistic Regression accuracy: \", accuracy_score(Y_test,y_pred))\n",
        "\n",
        "joblib.dump(model_lr, \"train_model_lr.pkl\")\n"
      ],
      "metadata": {
        "colab": {
          "base_uri": "https://localhost:8080/"
        },
        "id": "5Uw9IECS4PaG",
        "outputId": "9ca9c347-2f87-4a75-d4be-c3eea477b4e1"
      },
      "execution_count": null,
      "outputs": [
        {
          "output_type": "stream",
          "name": "stdout",
          "text": [
            "Logistic Regression accuracy:  0.7428571428571429\n"
          ]
        },
        {
          "output_type": "stream",
          "name": "stderr",
          "text": [
            "/usr/local/lib/python3.10/dist-packages/sklearn/utils/validation.py:1143: DataConversionWarning: A column-vector y was passed when a 1d array was expected. Please change the shape of y to (n_samples, ), for example using ravel().\n",
            "  y = column_or_1d(y, warn=True)\n"
          ]
        },
        {
          "output_type": "execute_result",
          "data": {
            "text/plain": [
              "['train_model_lr.pkl']"
            ]
          },
          "metadata": {},
          "execution_count": 25
        }
      ]
    }
  ]
}
{
  "nbformat": 4,
  "nbformat_minor": 0,
  "metadata": {
    "colab": {
      "provenance": [],
      "authorship_tag": "ABX9TyN19Mxqo5zVOgwZzKJmuUET",
      "include_colab_link": true
    },
    "kernelspec": {
      "name": "python3",
      "display_name": "Python 3"
    },
    "language_info": {
      "name": "python"
    }
  },
  "cells": [
    {
      "cell_type": "markdown",
      "metadata": {
        "id": "view-in-github",
        "colab_type": "text"
      },
      "source": [
        "<a href=\"https://colab.research.google.com/github/yotamtoib/uttenece_classification/blob/main/CS285_hw1.ipynb\" target=\"_parent\"><img src=\"https://colab.research.google.com/assets/colab-badge.svg\" alt=\"Open In Colab\"/></a>"
      ]
    },
    {
      "cell_type": "code",
      "execution_count": 1,
      "metadata": {
        "colab": {
          "base_uri": "https://localhost:8080/"
        },
        "id": "L64sm-YMnxTG",
        "outputId": "228e6937-1189-4ec0-d8ad-cde7760ffbb3"
      },
      "outputs": [
        {
          "output_type": "stream",
          "name": "stdout",
          "text": [
            "Cloning into 'homework_fall2023'...\n",
            "remote: Enumerating objects: 411, done.\u001b[K\n",
            "remote: Total 411 (delta 0), reused 0 (delta 0), pack-reused 411\u001b[K\n",
            "Receiving objects: 100% (411/411), 4.13 MiB | 6.29 MiB/s, done.\n",
            "Resolving deltas: 100% (170/170), done.\n"
          ]
        }
      ],
      "source": [
        "!git clone https://github.com/berkeleydeeprlcourse/homework_fall2023.git"
      ]
    }
  ]
}